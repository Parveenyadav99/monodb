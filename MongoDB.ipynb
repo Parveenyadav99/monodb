{
 "cells": [
  {
   "cell_type": "code",
   "execution_count": 1,
   "id": "ae456646",
   "metadata": {},
   "outputs": [
    {
     "data": {
      "text/plain": [
       "\"MongoDB is a popular NoSQL document-oriented database that stores data in a flexible, semi-structured format called BSON (Binary JSON). It is designed to be scalable, high-performance, and easy to work with.\\n\\nNon-relational databases, also known as NoSQL databases, are databases that store data differently from traditional relational databases. In a non-relational database, data is stored in a way that is optimized for specific use cases, rather than being organized into tables with fixed columns and relationships between them. Non-relational databases can be document-oriented, key-value stores, graph databases, and other types.\\n\\nThere are several scenarios where it is preferred to use MongoDB over SQL databases:\\n\\nFlexibility: MongoDB is schemaless and allows for dynamic changes to data structure, making it ideal for situations where the data is changing frequently and unpredictably.\\n\\nScalability: MongoDB is designed to be highly scalable and can handle large amounts of data with ease, making it ideal for high-traffic web applications and big data projects.\\n\\nPerformance: MongoDB is optimized for read and write performance, making it ideal for use cases where speed is critical, such as real-time analytics and content management systems.\\n\\nDeveloper productivity: MongoDB's flexible data model and easy-to-use query language make it easy for developers to work with and iterate on data models quickly, allowing for faster development and deployment of applications.\\n\\nCost: MongoDB is open-source and free to use, making it an attractive option for startups and small businesses that want a scalable, high-performance database without the high costs associated with traditional SQL databases.\""
      ]
     },
     "execution_count": 1,
     "metadata": {},
     "output_type": "execute_result"
    }
   ],
   "source": [
    "# Q1. What is MongoDB? Explain non-relational databases in short. In which scenarios it is preferred to useMongoDB over SQL databases?\n",
    "'''MongoDB is a popular NoSQL document-oriented database that stores data in a flexible, semi-structured format called BSON (Binary JSON). It is designed to be scalable, high-performance, and easy to work with.\n",
    "\n",
    "Non-relational databases, also known as NoSQL databases, are databases that store data differently from traditional relational databases. In a non-relational database, data is stored in a way that is optimized for specific use cases, rather than being organized into tables with fixed columns and relationships between them. Non-relational databases can be document-oriented, key-value stores, graph databases, and other types.\n",
    "\n",
    "There are several scenarios where it is preferred to use MongoDB over SQL databases:\n",
    "\n",
    "Flexibility: MongoDB is schemaless and allows for dynamic changes to data structure, making it ideal for situations where the data is changing frequently and unpredictably.\n",
    "\n",
    "Scalability: MongoDB is designed to be highly scalable and can handle large amounts of data with ease, making it ideal for high-traffic web applications and big data projects.\n",
    "\n",
    "Performance: MongoDB is optimized for read and write performance, making it ideal for use cases where speed is critical, such as real-time analytics and content management systems.\n",
    "\n",
    "Developer productivity: MongoDB's flexible data model and easy-to-use query language make it easy for developers to work with and iterate on data models quickly, allowing for faster development and deployment of applications.\n",
    "\n",
    "Cost: MongoDB is open-source and free to use, making it an attractive option for startups and small businesses that want a scalable, high-performance database without the high costs associated with traditional SQL databases.'''"
   ]
  },
  {
   "cell_type": "code",
   "execution_count": 2,
   "id": "ea7ed39a",
   "metadata": {},
   "outputs": [
    {
     "data": {
      "text/plain": [
       "\"MongoDB is a popular NoSQL database that comes with a variety of features that make it a flexible and powerful tool for storing and retrieving data. Here are some of the key features of MongoDB:\\n\\nDocument-oriented: MongoDB is a document-oriented database, which means that data is stored in a flexible, semi-structured format called BSON (Binary JSON). This makes it easy to work with data that is constantly changing or does not fit well into a traditional table-based schema.\\n\\nFlexible data model: MongoDB's document-oriented approach allows for a flexible data model that can easily accommodate changes to the structure of the data over time. This means that it is easy to add or remove fields from a document, or to modify the schema of an entire collection.\\n\\nIndexing: MongoDB supports a variety of indexing options, including single-field, compound, text, and geospatial indexes. This makes it easy to optimize queries and improve performance when working with large datasets.\\n\\nHigh availability: MongoDB comes with built-in support for replica sets, which allow for automatic failover and high availability. This means that even if a node in the cluster goes down, the system will continue to function without interruption.\\n\\nScalability: MongoDB is designed to be highly scalable, both horizontally and vertically. This means that it can easily handle large amounts of data and traffic, and can be scaled up or down as needed.\\n\\nAggregation framework: MongoDB comes with a powerful aggregation framework that allows for complex data analysis and manipulation, including grouping, filtering, and projecting data across multiple collections.\\n\\nQuery language: MongoDB's query language is based on JSON and is very intuitive and easy to use. It supports a wide variety of operations, including sorting, filtering, updating, and deleting data.\\n\\nMapReduce: MongoDB supports MapReduce for performing batch processing and data analysis on large datasets.\""
      ]
     },
     "execution_count": 2,
     "metadata": {},
     "output_type": "execute_result"
    }
   ],
   "source": [
    "# Q2. State and Explain the features of MongoDB.\n",
    "'''MongoDB is a popular NoSQL database that comes with a variety of features that make it a flexible and powerful tool for storing and retrieving data. Here are some of the key features of MongoDB:\n",
    "\n",
    "Document-oriented: MongoDB is a document-oriented database, which means that data is stored in a flexible, semi-structured format called BSON (Binary JSON). This makes it easy to work with data that is constantly changing or does not fit well into a traditional table-based schema.\n",
    "\n",
    "Flexible data model: MongoDB's document-oriented approach allows for a flexible data model that can easily accommodate changes to the structure of the data over time. This means that it is easy to add or remove fields from a document, or to modify the schema of an entire collection.\n",
    "\n",
    "Indexing: MongoDB supports a variety of indexing options, including single-field, compound, text, and geospatial indexes. This makes it easy to optimize queries and improve performance when working with large datasets.\n",
    "\n",
    "High availability: MongoDB comes with built-in support for replica sets, which allow for automatic failover and high availability. This means that even if a node in the cluster goes down, the system will continue to function without interruption.\n",
    "\n",
    "Scalability: MongoDB is designed to be highly scalable, both horizontally and vertically. This means that it can easily handle large amounts of data and traffic, and can be scaled up or down as needed.\n",
    "\n",
    "Aggregation framework: MongoDB comes with a powerful aggregation framework that allows for complex data analysis and manipulation, including grouping, filtering, and projecting data across multiple collections.\n",
    "\n",
    "Query language: MongoDB's query language is based on JSON and is very intuitive and easy to use. It supports a wide variety of operations, including sorting, filtering, updating, and deleting data.\n",
    "\n",
    "MapReduce: MongoDB supports MapReduce for performing batch processing and data analysis on large datasets.'''"
   ]
  },
  {
   "cell_type": "code",
   "execution_count": 4,
   "id": "5bb1feac",
   "metadata": {},
   "outputs": [],
   "source": [
    "# Q3. Write a code to connect MongoDB to Python. Also, create a database and a collection in MongoDB.\n",
    "import pymongo\n",
    "\n",
    "# Set up a client object and connect to the MongoDB server\n",
    "client = pymongo.MongoClient('mongodb://localhost:27017/')\n",
    "\n",
    "# Create a new database named 'mydatabase'\n",
    "mydb = client['mydatabase']\n",
    "\n",
    "# Create a new collection named 'customers' in the 'mydatabase' database\n",
    "mycol = mydb['customers']\n",
    "\n",
    "# Add a new document to the 'customers' collection\n",
    "new_customer = {\n",
    "  \"name\": \"John Smith\",\n",
    "  \"email\": \"john.smith@example.com\",\n",
    "  \"phone\": \"555-555-1234\"\n",
    "}\n",
    "\n",
    "# Insert the new document into the collection\n",
    "mycol.insert_one(new_customer)\n",
    "\n",
    "# Print the contents of the 'customers' collection\n",
    "for customer in mycol.find():\n",
    "    print(customer)\n",
    "\n"
   ]
  },
  {
   "cell_type": "code",
   "execution_count": 5,
   "id": "385ae3e7",
   "metadata": {},
   "outputs": [
    {
     "data": {
      "text/plain": [
       "\"In this code, we first import the PyMongo library and then set up a client object to connect to the MongoDB server running on the local machine (at localhost:27017). We then create a new database named mydatabase using the client['mydatabase'] syntax.\\n\\nNext, we create a new collection named customers within the mydatabase database using the mydb['customers'] syntax. We then add a new document to the customers collection with the insert_one() method.\\n\\nFinally, we print the contents of the customers collection using a for loop and the find() method. The output should be the new document that we just added to the collection.\""
      ]
     },
     "execution_count": 5,
     "metadata": {},
     "output_type": "execute_result"
    }
   ],
   "source": [
    "'''In this code, we first import the PyMongo library and then set up a client object to connect to the MongoDB server running on the local machine (at localhost:27017). We then create a new database named mydatabase using the client['mydatabase'] syntax.\n",
    "\n",
    "Next, we create a new collection named customers within the mydatabase database using the mydb['customers'] syntax. We then add a new document to the customers collection with the insert_one() method.\n",
    "\n",
    "Finally, we print the contents of the customers collection using a for loop and the find() method. The output should be the new document that we just added to the collection.'''"
   ]
  },
  {
   "cell_type": "code",
   "execution_count": 6,
   "id": "2e532a06",
   "metadata": {},
   "outputs": [
    {
     "ename": "ModuleNotFoundError",
     "evalue": "No module named 'pymongo'",
     "output_type": "error",
     "traceback": [
      "\u001b[1;31m---------------------------------------------------------------------------\u001b[0m",
      "\u001b[1;31mModuleNotFoundError\u001b[0m                       Traceback (most recent call last)",
      "\u001b[1;32m~\\AppData\\Local\\Temp/ipykernel_2832/390707338.py\u001b[0m in \u001b[0;36m<module>\u001b[1;34m\u001b[0m\n\u001b[0;32m      1\u001b[0m \u001b[1;31m# Q4. Using the database and the collection created in question number 3, write a code to insert one record,\u001b[0m\u001b[1;33m\u001b[0m\u001b[1;33m\u001b[0m\u001b[0m\n\u001b[0;32m      2\u001b[0m \u001b[1;31m#     and insert many records. Use the find() and find_one() methods to print the inserted record.\u001b[0m\u001b[1;33m\u001b[0m\u001b[1;33m\u001b[0m\u001b[0m\n\u001b[1;32m----> 3\u001b[1;33m \u001b[1;32mimport\u001b[0m \u001b[0mpymongo\u001b[0m\u001b[1;33m\u001b[0m\u001b[1;33m\u001b[0m\u001b[0m\n\u001b[0m\u001b[0;32m      4\u001b[0m \u001b[1;33m\u001b[0m\u001b[0m\n\u001b[0;32m      5\u001b[0m \u001b[1;31m# Set up a client object and connect to the MongoDB server\u001b[0m\u001b[1;33m\u001b[0m\u001b[1;33m\u001b[0m\u001b[0m\n",
      "\u001b[1;31mModuleNotFoundError\u001b[0m: No module named 'pymongo'"
     ]
    }
   ],
   "source": [
    "# Q4. Using the database and the collection created in question number 3, write a code to insert one record,\n",
    "#     and insert many records. Use the find() and find_one() methods to print the inserted record.\n",
    "import pymongo\n",
    "\n",
    "# Set up a client object and connect to the MongoDB server\n",
    "client = pymongo.MongoClient('mongodb://localhost:27017/')\n",
    "\n",
    "# Create a new database named 'mydatabase'\n",
    "mydb = client['mydatabase']\n",
    "\n",
    "# Create a new collection named 'customers' in the 'mydatabase' database\n",
    "mycol = mydb['customers']\n",
    "\n",
    "# Insert a single record into the 'customers' collection\n",
    "new_customer = {\n",
    "  \"name\": \"Jane Doe\",\n",
    "  \"email\": \"jane.doe@example.com\",\n",
    "  \"phone\": \"555-555-5678\"\n",
    "}\n",
    "\n",
    "result = mycol.insert_one(new_customer)\n",
    "print(\"Inserted record with ID:\", result.inserted_id)\n",
    "\n",
    "# Insert multiple records into the 'customers' collection\n",
    "new_customers = [\n",
    "  {\n",
    "    \"name\": \"Bob Smith\",\n",
    "    \"email\": \"bob.smith@example.com\",\n",
    "    \"phone\": \"555-555-9012\"\n",
    "  },\n",
    "  {\n",
    "    \"name\": \"Alice Jones\",\n",
    "    \"email\": \"alice.jones@example.com\",\n",
    "    \"phone\": \"555-555-3456\"\n",
    "  },\n",
    "  {\n",
    "    \"name\": \"Tom Brown\",\n",
    "    \"email\": \"tom.brown@example.com\",\n",
    "    \"phone\": \"555-555-7890\"\n",
    "  }\n",
    "]\n",
    "\n",
    "result = mycol.insert_many(new_customers)\n",
    "print(\"Inserted\", len(result.inserted_ids), \"records\")\n",
    "\n",
    "# Find a single record in the 'customers' collection\n",
    "print(\"Single record:\")\n",
    "print(mycol.find_one({\"name\": \"Jane Doe\"}))\n",
    "\n",
    "# Find all records in the 'customers' collection\n",
    "print(\"All records:\")\n",
    "for customer in mycol.find():\n",
    "    print(customer)\n"
   ]
  },
  {
   "cell_type": "code",
   "execution_count": 7,
   "id": "00835af2",
   "metadata": {},
   "outputs": [
    {
     "data": {
      "text/plain": [
       "'In this code, we first insert a single record into the customers collection using the insert_one() method, and print the ID of the inserted record using the inserted_id attribute of the result object.\\n\\nWe then insert multiple records into the customers collection using the insert_many() method, and print the number of inserted records using the len() function and the inserted_ids attribute of the result object.\\n\\nNext, we use the find_one() method to find a single record in the customers collection with the name field equal to \"Jane Doe\", and print it out. We then use the find() method to print all records in the customers collection.'"
      ]
     },
     "execution_count": 7,
     "metadata": {},
     "output_type": "execute_result"
    }
   ],
   "source": [
    "'''In this code, we first insert a single record into the customers collection using the insert_one() method, and print the ID of the inserted record using the inserted_id attribute of the result object.\n",
    "\n",
    "We then insert multiple records into the customers collection using the insert_many() method, and print the number of inserted records using the len() function and the inserted_ids attribute of the result object.\n",
    "\n",
    "Next, we use the find_one() method to find a single record in the customers collection with the name field equal to \"Jane Doe\", and print it out. We then use the find() method to print all records in the customers collection.'''"
   ]
  },
  {
   "cell_type": "code",
   "execution_count": 1,
   "id": "50883b36",
   "metadata": {},
   "outputs": [
    {
     "data": {
      "text/plain": [
       "\"Sure, here's an explanation of how to use the find() method to query a MongoDB database, along with some sample code:\\n\\nThe find() method is used to query a MongoDB database to find documents that match a certain criteria. It takes one or more arguments that specify the conditions that the documents must meet in order to be returned. Here's an example of how to use the find() method in Python:\""
      ]
     },
     "execution_count": 1,
     "metadata": {},
     "output_type": "execute_result"
    }
   ],
   "source": [
    "# Q5. Explain how you can use the find() method to query the MongoDB database. Write a simple code to demonstrate this.\n",
    "'''Sure, here's an explanation of how to use the find() method to query a MongoDB database, along with some sample code:\n",
    "\n",
    "The find() method is used to query a MongoDB database to find documents that match a certain criteria. It takes one or more arguments that specify the conditions that the documents must meet in order to be returned. Here's an example of how to use the find() method in Python:'''"
   ]
  },
  {
   "cell_type": "code",
   "execution_count": null,
   "id": "610248bf",
   "metadata": {},
   "outputs": [],
   "source": [
    "from pymongo import MongoClient\n",
    "\n",
    "# Connect to the MongoDB database\n",
    "client = MongoClient()\n",
    "db = client.my_database\n",
    "\n",
    "# Get a reference to the collection we want to query\n",
    "collection = db.my_collection\n",
    "\n",
    "# Define the query criteria\n",
    "query = { \"name\": \"John Doe\" }\n",
    "\n",
    "# Use the find() method to retrieve documents that match the query\n",
    "results = collection.find(query)\n",
    "\n",
    "# Print the results\n",
    "for doc in results:\n",
    "    print(doc)\n"
   ]
  },
  {
   "cell_type": "code",
   "execution_count": null,
   "id": "88a5a5d1",
   "metadata": {},
   "outputs": [],
   "source": [
    "# Q6. Explain the sort() method. Give an example to demonstrate sorting in MongoDB.\n"
   ]
  },
  {
   "cell_type": "code",
   "execution_count": 1,
   "id": "8fdf05c6",
   "metadata": {},
   "outputs": [
    {
     "data": {
      "text/plain": [
       "'The sort() method in MongoDB is used to sort the documents in a collection based on one or more fields. The method can be used to sort documents in ascending or descending order. The sort() method takes a single argument, which is an object that specifies the sorting criteria.\\n\\nThe syntax for the sort() method in MongoDB is as follows:'"
      ]
     },
     "execution_count": 1,
     "metadata": {},
     "output_type": "execute_result"
    }
   ],
   "source": [
    "'''The sort() method in MongoDB is used to sort the documents in a collection based on one or more fields. The method can be used to sort documents in ascending or descending order. The sort() method takes a single argument, which is an object that specifies the sorting criteria.\n",
    "\n",
    "The syntax for the sort() method in MongoDB is as follows:'''"
   ]
  },
  {
   "cell_type": "code",
   "execution_count": 2,
   "id": "76e3e16b",
   "metadata": {},
   "outputs": [
    {
     "data": {
      "text/plain": [
       "{'_id': 3, 'title': '1984', 'author': 'George Orwell', 'year': 1949}"
      ]
     },
     "execution_count": 2,
     "metadata": {},
     "output_type": "execute_result"
    }
   ],
   "source": [
    "{\n",
    "  \"_id\": 1,\n",
    "  \"title\": \"The Catcher in the Rye\",\n",
    "  \"author\": \"J.D. Salinger\",\n",
    "  \"year\": 1951\n",
    "},\n",
    "{\n",
    "  \"_id\": 2,\n",
    "  \"title\": \"To Kill a Mockingbird\",\n",
    "  \"author\": \"Harper Lee\",\n",
    "  \"year\": 1960\n",
    "},\n",
    "{\n",
    "  \"_id\": 3,\n",
    "  \"title\": \"1984\",\n",
    "  \"author\": \"George Orwell\",\n",
    "  \"year\": 1949\n",
    "}\n"
   ]
  },
  {
   "cell_type": "code",
   "execution_count": 4,
   "id": "e8f7b5f4",
   "metadata": {},
   "outputs": [
    {
     "data": {
      "text/plain": [
       "{'_id': 2,\n",
       " 'title': 'To Kill a Mockingbird',\n",
       " 'author': 'Harper Lee',\n",
       " 'year': 1960}"
      ]
     },
     "execution_count": 4,
     "metadata": {},
     "output_type": "execute_result"
    }
   ],
   "source": [
    "{\n",
    "  \"_id\": 3,\n",
    "  \"title\": \"1984\",\n",
    "  \"author\": \"George Orwell\",\n",
    "  \"year\": 1949\n",
    "},\n",
    "{\n",
    "  \"_id\": 1,\n",
    "  \"title\": \"The Catcher in the Rye\",\n",
    "  \"author\": \"J.D. Salinger\",\n",
    "  \"year\": 1951\n",
    "},\n",
    "{\n",
    "  \"_id\": 2,\n",
    "  \"title\": \"To Kill a Mockingbird\",\n",
    "  \"author\": \"Harper Lee\",\n",
    "  \"year\": 1960\n",
    "}\n"
   ]
  },
  {
   "cell_type": "code",
   "execution_count": 5,
   "id": "e60b8316",
   "metadata": {},
   "outputs": [
    {
     "data": {
      "text/plain": [
       "'In MongoDB, there are different methods available to delete documents and collections from a database. Here are the explanations for the delete_one(), delete_many(), and drop() methods:\\n\\ndelete_one(): This method is used to delete a single document that matches a specific filter. The syntax for delete_one() method is as follows:'"
      ]
     },
     "execution_count": 5,
     "metadata": {},
     "output_type": "execute_result"
    }
   ],
   "source": [
    "#  Q7. Explain why delete_one(), delete_many(), and drop() is used.\n",
    "'''In MongoDB, there are different methods available to delete documents and collections from a database. Here are the explanations for the delete_one(), delete_many(), and drop() methods:\n",
    "\n",
    "delete_one(): This method is used to delete a single document that matches a specific filter. The syntax for delete_one() method is as follows:'''"
   ]
  },
  {
   "cell_type": "code",
   "execution_count": 7,
   "id": "c7c7cee5",
   "metadata": {},
   "outputs": [
    {
     "data": {
      "text/plain": [
       "'delete_one(): This method is used to delete a single document that matches a specific filter. The syntax for delete_one() method is as follows:\\npython\\nCopy code\\ndb.collection.delete_one(filter, options)\\nThe filter parameter specifies the selection criteria for the document to be deleted, and the options parameter specifies additional options for the operation. If there are multiple documents that match the filter, only the first matching document is deleted. This method is useful when you want to remove a specific document from a collection.\\n\\ndelete_many(): This method is used to delete multiple documents that match a specific filter. The syntax for delete_many() method is as follows:\\npython\\nCopy code\\ndb.collection.delete_many(filter, options)\\nThe filter parameter specifies the selection criteria for the documents to be deleted, and the options parameter specifies additional options for the operation. If there are multiple documents that match the filter, all matching documents are deleted. This method is useful when you want to remove multiple documents from a collection based on a common selection criteria.\\n\\ndrop(): This method is used to drop a collection from a database. The syntax for drop() method is as follows:\\nscss\\nCopy code\\ndb.collection.drop()\\nThis method removes the entire collection from the database, including all of its documents and indexes. It is useful when you want to remove a collection and its associated data from a database.\\n\\nIn summary, delete_one() and delete_many() methods are used to remove documents from a collection, whereas the drop() method is used to remove an entire collection from the database.'"
      ]
     },
     "execution_count": 7,
     "metadata": {},
     "output_type": "execute_result"
    }
   ],
   "source": [
    "'''delete_one(): This method is used to delete a single document that matches a specific filter. The syntax for delete_one() method is as follows:\n",
    "python\n",
    "Copy code\n",
    "db.collection.delete_one(filter, options)\n",
    "The filter parameter specifies the selection criteria for the document to be deleted, and the options parameter specifies additional options for the operation. If there are multiple documents that match the filter, only the first matching document is deleted. This method is useful when you want to remove a specific document from a collection.\n",
    "\n",
    "delete_many(): This method is used to delete multiple documents that match a specific filter. The syntax for delete_many() method is as follows:\n",
    "python\n",
    "Copy code\n",
    "db.collection.delete_many(filter, options)\n",
    "The filter parameter specifies the selection criteria for the documents to be deleted, and the options parameter specifies additional options for the operation. If there are multiple documents that match the filter, all matching documents are deleted. This method is useful when you want to remove multiple documents from a collection based on a common selection criteria.\n",
    "\n",
    "drop(): This method is used to drop a collection from a database. The syntax for drop() method is as follows:\n",
    "scss\n",
    "Copy code\n",
    "db.collection.drop()\n",
    "This method removes the entire collection from the database, including all of its documents and indexes. It is useful when you want to remove a collection and its associated data from a database.\n",
    "\n",
    "In summary, delete_one() and delete_many() methods are used to remove documents from a collection, whereas the drop() method is used to remove an entire collection from the database.'''"
   ]
  },
  {
   "cell_type": "code",
   "execution_count": null,
   "id": "34061c9a",
   "metadata": {},
   "outputs": [],
   "source": []
  }
 ],
 "metadata": {
  "kernelspec": {
   "display_name": "Python 3 (ipykernel)",
   "language": "python",
   "name": "python3"
  },
  "language_info": {
   "codemirror_mode": {
    "name": "ipython",
    "version": 3
   },
   "file_extension": ".py",
   "mimetype": "text/x-python",
   "name": "python",
   "nbconvert_exporter": "python",
   "pygments_lexer": "ipython3",
   "version": "3.9.7"
  }
 },
 "nbformat": 4,
 "nbformat_minor": 5
}
